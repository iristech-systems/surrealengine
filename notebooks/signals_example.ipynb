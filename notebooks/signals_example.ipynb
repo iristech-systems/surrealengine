{
 "cells": [
  {
   "cell_type": "code",
   "execution_count": null,
   "id": "initial_id",
   "metadata": {
    "collapsed": true
   },
   "outputs": [],
   "source": [
    "import logging\n",
    "import asyncio\n",
    "from datetime import datetime\n",
    "\n",
    "from src.surrealengine import (\n",
    "    Document, StringField, IntField, FloatField, DateTimeField,\n",
    "    create_connection, BooleanField\n",
    ")\n",
    "from src.surrealengine.signals import pre_save, post_save, pre_init, post_init, handler, SIGNAL_SUPPORT"
   ]
  },
  {
   "metadata": {},
   "cell_type": "code",
   "outputs": [],
   "execution_count": null,
   "source": [
    "# Set up logging\n",
    "logging.basicConfig(level=logging.INFO, format='%(asctime)s - %(name)s - %(levelname)s - %(message)s')\n",
    "logger = logging.getLogger(__name__)\n",
    "\n",
    "# Define a document class\n",
    "class User(Document):\n",
    "    name = StringField(required=True)\n",
    "    email = StringField()\n",
    "    created_at = DateTimeField()\n",
    "    updated_at = DateTimeField()\n",
    "\n",
    "    # Define signal handlers as class methods\n",
    "    @classmethod\n",
    "    def pre_save_handler(cls, sender, document, **kwargs):\n",
    "        logger.info(f\"Pre-save: {document.name}\")\n",
    "        # Update the updated_at field\n",
    "        document.updated_at = datetime.utcnow()\n",
    "\n",
    "    @classmethod\n",
    "    def post_save_handler(cls, sender, document, **kwargs):\n",
    "        created = kwargs.get('created', False)\n",
    "        action = \"Created\" if created else \"Updated\"\n",
    "        logger.info(f\"Post-save: {action} {document.name}\")\n",
    "\n",
    "# Define a standalone signal handler\n",
    "def pre_init_handler(sender, document, values, **kwargs):\n",
    "    logger.info(f\"Pre-init: {sender.__name__} with values: {values}\")\n",
    "    # You can modify the values here if needed\n",
    "    if 'created_at' not in values:\n",
    "        values['created_at'] = datetime.utcnow()\n",
    "\n",
    "# Define a handler using the decorator\n",
    "@handler(post_init)\n",
    "def post_init_handler(sender, document, **kwargs):\n",
    "    logger.info(f\"Post-init: {document.__class__.__name__} initialized\")\n",
    "    return document\n",
    "\n",
    "# Connect the signal handlers\n",
    "pre_init.connect(pre_init_handler, sender=User)\n",
    "pre_save.connect(User.pre_save_handler, sender=User)\n",
    "post_save.connect(User.post_save_handler, sender=User)"
   ],
   "id": "3cae252265810fb7"
  },
  {
   "metadata": {},
   "cell_type": "code",
   "outputs": [],
   "execution_count": null,
   "source": [
    "connection = create_connection(\n",
    "        url=\"ws://db:8000/rpc\",\n",
    "        namespace=\"test_ns\",\n",
    "        database=\"test_db\",\n",
    "        username=\"root\",\n",
    "        password=\"root\",\n",
    "        make_default=True,\n",
    "    )\n",
    "await connection.connect()"
   ],
   "id": "185e9f9236b0881"
  },
  {
   "metadata": {},
   "cell_type": "code",
   "outputs": [],
   "execution_count": null,
   "source": [
    "# Create a new user\n",
    "user = User(name=\"John Doe\", email=\"john@example.com\")\n",
    "logger.info(f\"User created: {user.name}, {user.email}, created_at: {user.created_at}\")\n",
    "\n",
    "# Save the user\n",
    "await user.save()\n",
    "logger.info(f\"User saved with ID: {user.id}\")"
   ],
   "id": "ba5e721032b2fda2"
  },
  {
   "metadata": {},
   "cell_type": "code",
   "outputs": [],
   "execution_count": null,
   "source": [
    "user.name = \"Jane Doe\"\n",
    "await user.save()\n",
    "logger.info(f\"User updated: {user.name}, updated_at: {user.updated_at}\")"
   ],
   "id": "f8580f2d510cd9d6"
  },
  {
   "metadata": {},
   "cell_type": "code",
   "outputs": [],
   "execution_count": null,
   "source": [
    "# Delete the user\n",
    "await user.delete()\n",
    "logger.info(\"User deleted\")"
   ],
   "id": "4f6a98ace8a70a03"
  },
  {
   "metadata": {},
   "cell_type": "code",
   "outputs": [],
   "execution_count": null,
   "source": [
    "# Bulk create users\n",
    "users = [\n",
    "    User(name=f\"User {i}\", email=f\"user{i}@example.com\")\n",
    "    for i in range(5)\n",
    "]\n",
    "created_users = await User.bulk_create(users)\n",
    "logger.info(f\"Created {len(created_users)} users in bulk\")"
   ],
   "id": "da25b3d8553d88c1"
  },
  {
   "metadata": {},
   "cell_type": "code",
   "outputs": [],
   "execution_count": null,
   "source": [
    "for u in created_users:\n",
    "    await u.delete()"
   ],
   "id": "e6b578d10717275c"
  }
 ],
 "metadata": {
  "kernelspec": {
   "display_name": "Python 3",
   "language": "python",
   "name": "python3"
  },
  "language_info": {
   "codemirror_mode": {
    "name": "ipython",
    "version": 2
   },
   "file_extension": ".py",
   "mimetype": "text/x-python",
   "name": "python",
   "nbconvert_exporter": "python",
   "pygments_lexer": "ipython2",
   "version": "2.7.6"
  }
 },
 "nbformat": 4,
 "nbformat_minor": 5
}
