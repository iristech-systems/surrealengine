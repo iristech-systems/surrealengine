{
 "cells": [
  {
   "cell_type": "code",
   "execution_count": null,
   "id": "45b5bf3d-2925-4a93-9901-ed2e60a9b82d",
   "metadata": {},
   "outputs": [],
   "source": [
    "from src.surrealengine import (\n",
    "    Document, RelationDocument, StringField, IntField, FloatField,\n",
    "    BooleanField, DateTimeField, ListField, ReferenceField,\n",
    "    create_connection\n",
    ")"
   ]
  },
  {
   "cell_type": "code",
   "execution_count": null,
   "id": "75f40b67-4f54-41d4-b9a8-d075c14de75c",
   "metadata": {},
   "outputs": [],
   "source": [
    "# Define a Document class for Person\n",
    "class Person(Document):\n",
    "    \"\"\"A document representing a person.\"\"\"\n",
    "    name = StringField(required=True)\n",
    "    age = IntField(min_value=0)\n",
    "    email = StringField()\n",
    "\n",
    "    class Meta:\n",
    "        collection = \"people\"\n",
    "\n",
    "\n",
    "# Define a Document class for Book\n",
    "class Book(Document):\n",
    "    \"\"\"A document representing a book.\"\"\"\n",
    "    title = StringField(required=True)\n",
    "    isbn = StringField()\n",
    "    published_year = IntField()\n",
    "    price = FloatField(min_value=0)\n",
    "\n",
    "    class Meta:\n",
    "        collection = \"books\"\n",
    "\n",
    "\n",
    "# Define a RelationDocument class for AuthorRelation\n",
    "class AuthorRelation(RelationDocument):\n",
    "    \"\"\"A relation document representing an author relationship.\"\"\"\n",
    "    date_written = DateTimeField()\n",
    "    is_primary_author = BooleanField(default=True)\n",
    "\n",
    "    class Meta:\n",
    "        collection = \"authored\""
   ]
  },
  {
   "cell_type": "code",
   "execution_count": null,
   "id": "124c8494-b4ef-4b6b-8fe3-3432cdcfcc9d",
   "metadata": {},
   "outputs": [],
   "source": [
    "connection = create_connection(\n",
    "        url=\"ws://db:8000/rpc\",\n",
    "        namespace=\"test_ns\",\n",
    "        database=\"test_db\",\n",
    "        username=\"root\",\n",
    "        password=\"root\",\n",
    "        make_default=True\n",
    "    )\n",
    "\n",
    "await connection.connect()\n",
    "print(\"Connected to SurrealDB\")"
   ]
  },
  {
   "cell_type": "code",
   "execution_count": null,
   "id": "0d9c7b09-6ef9-4a3b-beed-b1f3c546797b",
   "metadata": {},
   "outputs": [],
   "source": [
    "# Create tables\n",
    "await Person.create_table(connection)\n",
    "await Book.create_table(connection)\n",
    "\n",
    "# Create a person with an embedded address\n",
    "person = Person(\n",
    "    name=\"John Doe\",\n",
    "    age=35,\n",
    "    email=\"john.doe@example.com\"\n",
    ")\n",
    "await person.save()\n",
    "print(f\"Created person: {person.to_dict()}\")\n",
    "\n",
    "# Create a book\n",
    "book = Book(\n",
    "    title=\"The Great Novel\",\n",
    "    isbn=\"978-3-16-148410-0\",\n",
    "    published_year=2023,\n",
    "    price=19.99\n",
    ")\n",
    "await book.save()\n",
    "print(f\"Created book: {book.to_dict()}\")"
   ]
  },
  {
   "cell_type": "code",
   "execution_count": null,
   "id": "0df19be8-62c9-4f88-8f51-a4f513b0fd7d",
   "metadata": {},
   "outputs": [],
   "source": [
    "relation = await AuthorRelation.create_relation(\n",
    "            person, book,\n",
    "            date_written=\"2022-01-15T00:00:00Z\",\n",
    "            is_primary_author=True\n",
    "        )"
   ]
  },
  {
   "cell_type": "code",
   "execution_count": null,
   "id": "5dcb8058-5d7a-4547-8540-989f3e98a3a5",
   "metadata": {},
   "outputs": [],
   "source": [
    "await person.fetch_relation('authored')"
   ]
  },
  {
   "cell_type": "code",
   "execution_count": null,
   "id": "d4158833-9cb9-4310-ad4f-126e9d4f5179",
   "metadata": {},
   "outputs": [],
   "source": [
    "await person.resolve_relation('authored')"
   ]
  },
  {
   "cell_type": "code",
   "execution_count": null,
   "id": "f6d57a32-9278-45a8-8c99-598a1e290cce",
   "metadata": {},
   "outputs": [],
   "source": [
    "# Clean up\n",
    "await person.delete()\n",
    "await book.delete()\n",
    "print(\"Deleted person and book\")"
   ]
  },
  {
   "cell_type": "code",
   "execution_count": null,
   "id": "707ab85f-ddc1-4c93-8f1a-29c6ce9c316f",
   "metadata": {},
   "outputs": [],
   "source": []
  }
 ],
 "metadata": {
  "kernelspec": {
   "display_name": "Python 3 (ipykernel)",
   "language": "python",
   "name": "python3"
  },
  "language_info": {
   "codemirror_mode": {
    "name": "ipython",
    "version": 3
   },
   "file_extension": ".py",
   "mimetype": "text/x-python",
   "name": "python",
   "nbconvert_exporter": "python",
   "pygments_lexer": "ipython3",
   "version": "3.13.3"
  }
 },
 "nbformat": 4,
 "nbformat_minor": 5
}
