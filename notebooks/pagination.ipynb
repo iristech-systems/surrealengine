{
 "cells": [
  {
   "cell_type": "code",
   "id": "initial_id",
   "metadata": {
    "collapsed": true
   },
   "source": [
    "from src.surrealengine import (\n",
    "    Document, StringField, IntField, FloatField, ListField,\n",
    "    ReferenceField, RelationField, create_connection\n",
    ")"
   ],
   "outputs": [],
   "execution_count": null
  },
  {
   "metadata": {},
   "cell_type": "code",
   "source": [
    "class Person(Document):\n",
    "    name = StringField()\n",
    "    age = IntField()"
   ],
   "id": "5e2eb498b8f29627",
   "outputs": [],
   "execution_count": null
  },
  {
   "metadata": {},
   "cell_type": "code",
   "source": [
    "async def async_example():\n",
    "    # Connect to the database\n",
    "    # Connect to the database\n",
    "    connection = create_connection(\n",
    "        url=\"ws://0.0.0.0:8001/rpc\",\n",
    "        namespace=\"test_ns\",\n",
    "        database=\"test_db\",\n",
    "        username=\"root\",\n",
    "        password=\"root\",\n",
    "        make_default=True\n",
    "    )\n",
    "\n",
    "    await connection.connect()\n",
    "    print(\"Connected to SurrealDB\")\n",
    "\n",
    "\n",
    "    # Create some test data\n",
    "    for i in range(20):\n",
    "        person = Person(name=f\"Person {i}\", age=20 + i)\n",
    "        await person.save()\n",
    "\n",
    "    print(\"Async Pagination Example:\")\n",
    "\n",
    "    # Get the first page (10 records)\n",
    "    page1 = await Person.objects.filter().limit(10)\n",
    "    print(f\"Page 1 (10 records): {len(page1)} records\")\n",
    "    for person in page1:\n",
    "        print(f\"  - {person.name}, Age: {person.age}\")\n",
    "\n",
    "    # Get the second page (next 10 records)\n",
    "    page2 = await Person.objects.filter().limit(10).start(10)\n",
    "    print(f\"\\nPage 2 (10 records starting from 10): {len(page2)} records\")\n",
    "    for person in page2:\n",
    "        print(f\"  - {person.name}, Age: {person.age}\")\n",
    "\n",
    "    # Get a specific range with filtering\n",
    "    filtered_page = await Person.objects.filter(age__gt=25).limit(5)\n",
    "    print(f\"\\nFiltered page (age > 25, limit 5): {len(filtered_page)} records\")\n",
    "    for person in filtered_page:\n",
    "        print(f\"  - {person.name}, Age: {person.age}\")\n",
    "\n",
    "    # Clean up test data\n",
    "    for person in await Person.objects():\n",
    "        person.delete()\n"
   ],
   "id": "d4170d5ba3cb6c84",
   "outputs": [],
   "execution_count": null
  },
  {
   "metadata": {},
   "cell_type": "code",
   "source": "await async_example()",
   "id": "b2b1e4c048b6a5f3",
   "outputs": [],
   "execution_count": null
  },
  {
   "metadata": {},
   "cell_type": "code",
   "source": "",
   "id": "d79602a3171ad85b",
   "outputs": [],
   "execution_count": null
  }
 ],
 "metadata": {
  "kernelspec": {
   "display_name": "Python 3",
   "language": "python",
   "name": "python3"
  },
  "language_info": {
   "codemirror_mode": {
    "name": "ipython",
    "version": 2
   },
   "file_extension": ".py",
   "mimetype": "text/x-python",
   "name": "python",
   "nbconvert_exporter": "python",
   "pygments_lexer": "ipython2",
   "version": "2.7.6"
  }
 },
 "nbformat": 4,
 "nbformat_minor": 5
}
