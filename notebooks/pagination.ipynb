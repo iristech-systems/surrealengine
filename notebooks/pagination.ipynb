{
 "cells": [
  {
   "cell_type": "code",
   "id": "initial_id",
   "metadata": {
    "collapsed": true,
    "ExecuteTime": {
     "end_time": "2025-05-14T11:08:50.276492Z",
     "start_time": "2025-05-14T11:08:50.174473Z"
    }
   },
   "source": [
    "from src.surrealengine import (\n",
    "    Document, StringField, IntField, FloatField, ListField,\n",
    "    ReferenceField, RelationField, create_connection\n",
    ")"
   ],
   "outputs": [],
   "execution_count": 1
  },
  {
   "metadata": {
    "ExecuteTime": {
     "end_time": "2025-05-14T11:08:50.531642Z",
     "start_time": "2025-05-14T11:08:50.529883Z"
    }
   },
   "cell_type": "code",
   "source": [
    "class Person(Document):\n",
    "    name = StringField()\n",
    "    age = IntField()"
   ],
   "id": "5e2eb498b8f29627",
   "outputs": [],
   "execution_count": 2
  },
  {
   "metadata": {
    "ExecuteTime": {
     "end_time": "2025-05-14T11:08:50.936514Z",
     "start_time": "2025-05-14T11:08:50.933098Z"
    }
   },
   "cell_type": "code",
   "source": [
    "async def async_example():\n",
    "    # Connect to the database\n",
    "    # Connect to the database\n",
    "    connection = create_connection(\n",
    "        url=\"ws://0.0.0.0:8001/rpc\",\n",
    "        namespace=\"test_ns\",\n",
    "        database=\"test_db\",\n",
    "        username=\"root\",\n",
    "        password=\"root\",\n",
    "        make_default=True\n",
    "    )\n",
    "\n",
    "    await connection.connect()\n",
    "    print(\"Connected to SurrealDB\")\n",
    "\n",
    "\n",
    "    # Create some test data\n",
    "    for i in range(20):\n",
    "        person = Person(name=f\"Person {i}\", age=20 + i)\n",
    "        await person.save()\n",
    "\n",
    "    print(\"Async Pagination Example:\")\n",
    "\n",
    "    # Get the first page (10 records)\n",
    "    page1 = await Person.objects.filter().limit(10)\n",
    "    print(f\"Page 1 (10 records): {len(page1)} records\")\n",
    "    for person in page1:\n",
    "        print(f\"  - {person.name}, Age: {person.age}\")\n",
    "\n",
    "    # Get the second page (next 10 records)\n",
    "    page2 = await Person.objects.filter().limit(10).start(10)\n",
    "    print(f\"\\nPage 2 (10 records starting from 10): {len(page2)} records\")\n",
    "    for person in page2:\n",
    "        print(f\"  - {person.name}, Age: {person.age}\")\n",
    "\n",
    "    # Get a specific range with filtering\n",
    "    filtered_page = await Person.objects.filter(age__gt=25).limit(5)\n",
    "    print(f\"\\nFiltered page (age > 25, limit 5): {len(filtered_page)} records\")\n",
    "    for person in filtered_page:\n",
    "        print(f\"  - {person.name}, Age: {person.age}\")\n",
    "\n",
    "    # Clean up test data\n",
    "    for person in await Person.objects():\n",
    "        person.delete()\n"
   ],
   "id": "d4170d5ba3cb6c84",
   "outputs": [],
   "execution_count": 3
  },
  {
   "metadata": {
    "ExecuteTime": {
     "end_time": "2025-05-14T11:08:52.099499Z",
     "start_time": "2025-05-14T11:08:51.851068Z"
    }
   },
   "cell_type": "code",
   "source": "await async_example()",
   "id": "b2b1e4c048b6a5f3",
   "outputs": [
    {
     "name": "stdout",
     "output_type": "stream",
     "text": [
      "Connected to SurrealDB\n",
      "Async Pagination Example:\n",
      "Page 1 (10 records): 10 records\n",
      "  - Person 16, Age: 36\n",
      "  - Person 5, Age: 25\n",
      "  - Person 13, Age: 33\n",
      "  - Person 3, Age: 23\n",
      "  - Person 2, Age: 22\n",
      "  - Person 6, Age: 26\n",
      "  - Person 14, Age: 34\n",
      "  - Person 3, Age: 23\n",
      "  - Person 10, Age: 30\n",
      "  - Person 1, Age: 21\n",
      "\n",
      "Page 2 (10 records starting from 10): 10 records\n",
      "  - Person 9, Age: 29\n",
      "  - Person 5, Age: 25\n",
      "  - Person 18, Age: 38\n",
      "  - Person 16, Age: 36\n",
      "  - Person 14, Age: 34\n",
      "  - Person 19, Age: 39\n",
      "  - Person 14, Age: 34\n",
      "  - Person 16, Age: 36\n",
      "  - Person 11, Age: 31\n",
      "  - Person 17, Age: 37\n",
      "\n",
      "Filtered page (age > 25, limit 5): 5 records\n",
      "  - Person 16, Age: 36\n",
      "  - Person 13, Age: 33\n",
      "  - Person 6, Age: 26\n",
      "  - Person 14, Age: 34\n",
      "  - Person 10, Age: 30\n"
     ]
    },
    {
     "name": "stderr",
     "output_type": "stream",
     "text": [
      "/var/folders/68/rf_mfyd9449fy9qq2sq3l7640000gn/T/ipykernel_1864/1606253206.py:44: RuntimeWarning: coroutine 'Document.delete' was never awaited\n",
      "  person.delete()\n",
      "RuntimeWarning: Enable tracemalloc to get the object allocation traceback\n"
     ]
    }
   ],
   "execution_count": 4
  },
  {
   "metadata": {},
   "cell_type": "code",
   "outputs": [],
   "execution_count": null,
   "source": "",
   "id": "d79602a3171ad85b"
  }
 ],
 "metadata": {
  "kernelspec": {
   "display_name": "Python 3",
   "language": "python",
   "name": "python3"
  },
  "language_info": {
   "codemirror_mode": {
    "name": "ipython",
    "version": 2
   },
   "file_extension": ".py",
   "mimetype": "text/x-python",
   "name": "python",
   "nbconvert_exporter": "python",
   "pygments_lexer": "ipython2",
   "version": "2.7.6"
  }
 },
 "nbformat": 4,
 "nbformat_minor": 5
}
