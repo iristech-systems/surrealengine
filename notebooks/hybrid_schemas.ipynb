{
 "cells": [
  {
   "cell_type": "code",
   "execution_count": null,
   "id": "initial_id",
   "metadata": {
    "collapsed": true
   },
   "outputs": [],
   "source": "from src.surrealengine import Document, StringField, IntField, FloatField, ListField, DictField, generate_schema_statements\n"
  },
  {
   "metadata": {},
   "cell_type": "code",
   "outputs": [],
   "execution_count": null,
   "source": [
    "# Define a Document class with some fields marked with define_schema=True\n",
    "class Product(Document):\n",
    "    # This field will be defined in the schema even for SCHEMALESS tables\n",
    "    name = StringField(required=True, define_schema=True)\n",
    "\n",
    "    # This field will be defined in the schema even for SCHEMALESS tables\n",
    "    price = FloatField(define_schema=True)\n",
    "\n",
    "    # This field won't be defined in the schema for SCHEMALESS tables\n",
    "    description = StringField()\n",
    "\n",
    "    # Other fields that won't be defined in the schema for SCHEMALESS tables\n",
    "    tags = ListField()\n",
    "    metadata = DictField()\n",
    "\n",
    "# Generate schema statements for SCHEMAFULL table\n",
    "print(\"SCHEMAFULL statements:\")\n",
    "statements = generate_schema_statements(Product, schemafull=True)\n",
    "for stmt in statements:\n",
    "    print(stmt)\n",
    "\n",
    "print(\"\\n\" + \"-\" * 50 + \"\\n\")\n",
    "\n",
    "# Generate schema statements for SCHEMALESS table\n",
    "# Only fields with define_schema=True should be included\n",
    "print(\"SCHEMALESS statements:\")\n",
    "statements = generate_schema_statements(Product, schemafull=False)\n",
    "for stmt in statements:\n",
    "    print(stmt)"
   ],
   "id": "c5c6b088918a14a6"
  }
 ],
 "metadata": {
  "kernelspec": {
   "display_name": "Python 3",
   "language": "python",
   "name": "python3"
  },
  "language_info": {
   "codemirror_mode": {
    "name": "ipython",
    "version": 2
   },
   "file_extension": ".py",
   "mimetype": "text/x-python",
   "name": "python",
   "nbconvert_exporter": "python",
   "pygments_lexer": "ipython2",
   "version": "2.7.6"
  }
 },
 "nbformat": 4,
 "nbformat_minor": 5
}
